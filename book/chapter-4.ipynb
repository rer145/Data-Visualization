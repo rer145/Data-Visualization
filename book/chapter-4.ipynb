{
 "cells": [
  {
   "cell_type": "code",
   "execution_count": 1,
   "metadata": {
    "collapsed": true
   },
   "outputs": [],
   "source": [
    "import pygal"
   ]
  },
  {
   "cell_type": "code",
   "execution_count": 2,
   "metadata": {
    "collapsed": true
   },
   "outputs": [],
   "source": [
    "pie = pygal.Pie()\n",
    "pie.title = \"Total top tablet sales in 2013 (in %)\"\n",
    "pie.add(\"iPad & iPad mini\", 49.7)\n",
    "pie.add(\"Surface Pro 2\", 36.3)\n",
    "pie.add(\"Surface 2\", 24.5)\n",
    "pie.add(\"Nexus 7\", 17.5)\n",
    "pie.render_to_file(\"pie.svg\")"
   ]
  },
  {
   "cell_type": "code",
   "execution_count": 3,
   "metadata": {
    "collapsed": true
   },
   "outputs": [],
   "source": [
    "pie = pygal.Pie()\n",
    "pie.title = \"Total top tablet sales in 2013 (in %)\"\n",
    "pie.add(\"iPad & iPad mini\", [19.7, 21.3])\n",
    "pie.add(\"Surface 2 (& Pro 2)\", [24.5, 36.3])\n",
    "pie.add(\"Nexus 7\", 17.5)\n",
    "pie.render_to_file(\"pie-stacked.svg\")"
   ]
  },
  {
   "cell_type": "code",
   "execution_count": 4,
   "metadata": {
    "collapsed": true
   },
   "outputs": [],
   "source": [
    "radar = pygal.Radar()\n",
    "radar.title = \"Product Budget Figures\"\n",
    "radar.x_labels = [\"Sales\", \"Marketing\", \"Development\", \"Customer Support\", \"Information Technology\", \"Administration\"]\n",
    "radar.add(\"Estimate\", [40, 20, 100, 20, 30, 20, 10])\n",
    "radar.add(\"Actual\", [70, 50, 4, 10, 17, 8, 10])\n",
    "radar.render_to_file(\"radar.svg\")"
   ]
  },
  {
   "cell_type": "code",
   "execution_count": 5,
   "metadata": {
    "collapsed": true
   },
   "outputs": [],
   "source": [
    "box = pygal.Box()\n",
    "box.title = \"Cost of Whole Milk in early 2014\"\n",
    "box.add(\"US Dollars\", [2.08, 3.14, 3.89, 3.91, 3.94, 3.98])\n",
    "box.render_to_file(\"box.svg\")"
   ]
  },
  {
   "cell_type": "code",
   "execution_count": 6,
   "metadata": {
    "collapsed": true
   },
   "outputs": [],
   "source": [
    "box = pygal.Box()\n",
    "box.title = \"Cost of Whole Milk in early 2014\"\n",
    "box.add(\"US Dollars\", [2.08, 3.14, 3.89, 3.91, 3.94, 3.98])\n",
    "box.add(\"Pound Sterling\", [2.78, 3.84, 1.69, 4.71, 4.84, 4.92])\n",
    "box.render_to_file(\"box2.svg\")"
   ]
  },
  {
   "cell_type": "code",
   "execution_count": 7,
   "metadata": {
    "collapsed": true
   },
   "outputs": [],
   "source": [
    "dot = pygal.Dot()\n",
    "dot.title = \"Cost of Whole Milk in early 2014\"\n",
    "dot.add(\"US Dollars\", [2.08, 3.14, 3.89, 3.91, 3.94, 3.98])\n",
    "dot.render_to_file(\"dot.svg\")"
   ]
  },
  {
   "cell_type": "code",
   "execution_count": 8,
   "metadata": {
    "collapsed": true
   },
   "outputs": [],
   "source": [
    "dot = pygal.Dot(x_label_rotation=45)\n",
    "dot.title = \"Cost of Whole Milk in early 2014\"\n",
    "dot.x_labels = [\"Jan\", \"Feb\", \"mar\", \"Apr\", \"May\", \"Jun\"]\n",
    "dot.add(\"US Dollars\", [2.08, 3.14, 3.89, 3.91, 3.94, 3.98])\n",
    "dot.add(\"Pound Sterling\", [2.78, 3.84, 1.69, 4.71, 4.84, 4.92])\n",
    "dot.render_to_file(\"dot2.svg\")"
   ]
  },
  {
   "cell_type": "code",
   "execution_count": 10,
   "metadata": {},
   "outputs": [],
   "source": [
    "#Funnel charts are used to highlight certain shared properties of data in which the data comes from multiple data sets\n",
    "funnel = pygal.Funnel(x_label_rotation=40)\n",
    "funnel.title = \"Amount of thrust used in a space shuttle at takeoff (in lbs)\"\n",
    "funnel.x_labels = [\"Pre-takeoff\", \"5 min\", \"10 min\", \"15 min\", \"20 min\"]\n",
    "funnel.add(\"Main Engine\", [7000000, 6115200, 5009600, 4347400])\n",
    "funnel.add(\"Engine #1\", [1285000, 1072000, 89000, 51600, 12960])\n",
    "funnel.add(\"Engine 3 & 4\", [99000, 61600, 21960, 17856, 11235])\n",
    "funnel.render_to_file(\"funnel.svg\")"
   ]
  },
  {
   "cell_type": "code",
   "execution_count": 13,
   "metadata": {
    "collapsed": true
   },
   "outputs": [],
   "source": [
    "#Gauge charts are similar to speedometers, but also work well with multple datasets.\n",
    "gauge = pygal.Gauge()\n",
    "gauge.title = \"Speed of space shuttle during takeoff\"\n",
    "gauge.x_labels = [\"pre-Takeoff\", \"5 min\", \"10 min\", \"15 min\", \"20 min\"]\n",
    "gauge.add(\"Pre-takeoff\", 0)\n",
    "gauge.add(\"5 min\", 96)\n",
    "gauge.add(\"10 min\", 167)\n",
    "gauge.add(\"15 min\", 249)\n",
    "gauge.add(\"20 min\", 339)\n",
    "gauge.render_to_file(\"gauge.svg\")"
   ]
  },
  {
   "cell_type": "code",
   "execution_count": 14,
   "metadata": {
    "collapsed": true
   },
   "outputs": [],
   "source": [
    "gauge = pygal.Gauge(human_readable=True)\n",
    "gauge.title = \"Speed of space shuttle during takeoff\"\n",
    "gauge.x_labels = [\"pre-Takeoff\", \"5 min\", \"10 min\", \"15 min\", \"20 min\"]\n",
    "gauge.add(\"Pre-takeoff\", 0)\n",
    "gauge.add(\"5 min\", 96)\n",
    "gauge.add(\"10 min\", 167)\n",
    "gauge.add(\"15 min\", 249)\n",
    "gauge.add(\"20 min\", 339)\n",
    "gauge.render_to_file(\"gauge2.svg\")"
   ]
  },
  {
   "cell_type": "code",
   "execution_count": null,
   "metadata": {
    "collapsed": true
   },
   "outputs": [],
   "source": [
    "#Pyramid charts are good for displaying large amounts of data with large values (such as population, election results, etc)\n"
   ]
  }
 ],
 "metadata": {
  "kernelspec": {
   "display_name": "Python 3",
   "language": "python",
   "name": "python3"
  },
  "language_info": {
   "codemirror_mode": {
    "name": "ipython",
    "version": 3
   },
   "file_extension": ".py",
   "mimetype": "text/x-python",
   "name": "python",
   "nbconvert_exporter": "python",
   "pygments_lexer": "ipython3",
   "version": "3.6.1"
  }
 },
 "nbformat": 4,
 "nbformat_minor": 2
}
