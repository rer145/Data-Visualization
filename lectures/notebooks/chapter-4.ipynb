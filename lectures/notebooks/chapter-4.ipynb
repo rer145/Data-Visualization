{
 "cells": [
  {
   "cell_type": "code",
   "execution_count": 1,
   "metadata": {
    "collapsed": true
   },
   "outputs": [],
   "source": [
    "import pygal"
   ]
  },
  {
   "cell_type": "code",
   "execution_count": 2,
   "metadata": {
    "collapsed": true
   },
   "outputs": [],
   "source": [
    "pie = pygal.Pie()\n",
    "pie.title = \"Total top tablet sales in 2013 (in %)\"\n",
    "pie.add(\"iPad & iPad mini\", 49.7)\n",
    "pie.add(\"Surface Pro 2\", 36.3)\n",
    "pie.add(\"Surface 2\", 24.5)\n",
    "pie.add(\"Nexus 7\", 17.5)\n",
    "pie.render_to_file(\"../plots/pie.svg\")"
   ]
  },
  {
   "cell_type": "code",
   "execution_count": 3,
   "metadata": {
    "collapsed": true
   },
   "outputs": [],
   "source": [
    "pie = pygal.Pie()\n",
    "pie.title = \"Total top tablet sales in 2013 (in %)\"\n",
    "pie.add(\"iPad & iPad mini\", [19.7, 21.3])\n",
    "pie.add(\"Surface 2 (& Pro 2)\", [24.5, 36.3])\n",
    "pie.add(\"Nexus 7\", 17.5)\n",
    "pie.render_to_file(\"../plots/pie-stacked.svg\")"
   ]
  },
  {
   "cell_type": "code",
   "execution_count": 4,
   "metadata": {
    "collapsed": true
   },
   "outputs": [],
   "source": [
    "radar = pygal.Radar()\n",
    "radar.title = \"Product Budget Figures\"\n",
    "radar.x_labels = [\"Sales\", \"Marketing\", \"Development\", \"Customer Support\", \"Information Technology\", \"Administration\"]\n",
    "radar.add(\"Estimate\", [40, 20, 100, 20, 30, 20, 10])\n",
    "radar.add(\"Actual\", [70, 50, 4, 10, 17, 8, 10])\n",
    "radar.render_to_file(\"../plots/radar.svg\")"
   ]
  },
  {
   "cell_type": "code",
   "execution_count": 5,
   "metadata": {
    "collapsed": true
   },
   "outputs": [],
   "source": [
    "box = pygal.Box()\n",
    "box.title = \"Cost of Whole Milk in early 2014\"\n",
    "box.add(\"US Dollars\", [2.08, 3.14, 3.89, 3.91, 3.94, 3.98])\n",
    "box.render_to_file(\"../plots/box.svg\")"
   ]
  },
  {
   "cell_type": "code",
   "execution_count": 6,
   "metadata": {
    "collapsed": true
   },
   "outputs": [],
   "source": [
    "box = pygal.Box()\n",
    "box.title = \"Cost of Whole Milk in early 2014\"\n",
    "box.add(\"US Dollars\", [2.08, 3.14, 3.89, 3.91, 3.94, 3.98])\n",
    "box.add(\"Pound Sterling\", [2.78, 3.84, 1.69, 4.71, 4.84, 4.92])\n",
    "box.render_to_file(\"../plots/box2.svg\")"
   ]
  },
  {
   "cell_type": "code",
   "execution_count": 7,
   "metadata": {
    "collapsed": true
   },
   "outputs": [],
   "source": [
    "dot = pygal.Dot()\n",
    "dot.title = \"Cost of Whole Milk in early 2014\"\n",
    "dot.add(\"US Dollars\", [2.08, 3.14, 3.89, 3.91, 3.94, 3.98])\n",
    "dot.render_to_file(\"../plots/dot.svg\")"
   ]
  },
  {
   "cell_type": "code",
   "execution_count": 8,
   "metadata": {
    "collapsed": true
   },
   "outputs": [],
   "source": [
    "dot = pygal.Dot(x_label_rotation=45)\n",
    "dot.title = \"Cost of Whole Milk in early 2014\"\n",
    "dot.x_labels = [\"Jan\", \"Feb\", \"mar\", \"Apr\", \"May\", \"Jun\"]\n",
    "dot.add(\"US Dollars\", [2.08, 3.14, 3.89, 3.91, 3.94, 3.98])\n",
    "dot.add(\"Pound Sterling\", [2.78, 3.84, 1.69, 4.71, 4.84, 4.92])\n",
    "dot.render_to_file(\"../plots/dot2.svg\")"
   ]
  },
  {
   "cell_type": "code",
   "execution_count": 9,
   "metadata": {
    "collapsed": true
   },
   "outputs": [],
   "source": [
    "#Funnel charts are used to highlight certain shared properties of data in which the data comes from multiple data sets\n",
    "funnel = pygal.Funnel(x_label_rotation=40)\n",
    "funnel.title = \"Amount of thrust used in a space shuttle at takeoff (in lbs)\"\n",
    "funnel.x_labels = [\"Pre-takeoff\", \"5 min\", \"10 min\", \"15 min\", \"20 min\"]\n",
    "funnel.add(\"Main Engine\", [7000000, 6115200, 5009600, 4347400])\n",
    "funnel.add(\"Engine #1\", [1285000, 1072000, 89000, 51600, 12960])\n",
    "funnel.add(\"Engine 3 & 4\", [99000, 61600, 21960, 17856, 11235])\n",
    "funnel.render_to_file(\"../plots/funnel.svg\")"
   ]
  },
  {
   "cell_type": "code",
   "execution_count": 10,
   "metadata": {
    "collapsed": true
   },
   "outputs": [],
   "source": [
    "#Gauge charts are similar to speedometers, but also work well with multple datasets.\n",
    "gauge = pygal.Gauge()\n",
    "gauge.title = \"Speed of space shuttle during takeoff\"\n",
    "gauge.x_labels = [\"pre-Takeoff\", \"5 min\", \"10 min\", \"15 min\", \"20 min\"]\n",
    "gauge.add(\"Pre-takeoff\", 0)\n",
    "gauge.add(\"5 min\", 96)\n",
    "gauge.add(\"10 min\", 167)\n",
    "gauge.add(\"15 min\", 249)\n",
    "gauge.add(\"20 min\", 339)\n",
    "gauge.render_to_file(\"../plots/gauge.svg\")"
   ]
  },
  {
   "cell_type": "code",
   "execution_count": 11,
   "metadata": {
    "collapsed": true
   },
   "outputs": [],
   "source": [
    "gauge = pygal.Gauge(human_readable=True)\n",
    "gauge.title = \"Speed of space shuttle during takeoff\"\n",
    "gauge.x_labels = [\"pre-Takeoff\", \"5 min\", \"10 min\", \"15 min\", \"20 min\"]\n",
    "gauge.add(\"Pre-takeoff\", 0)\n",
    "gauge.add(\"5 min\", 96)\n",
    "gauge.add(\"10 min\", 167)\n",
    "gauge.add(\"15 min\", 249)\n",
    "gauge.add(\"20 min\", 339)\n",
    "gauge.render_to_file(\"../plots/gauge2.svg\")"
   ]
  },
  {
   "cell_type": "code",
   "execution_count": 12,
   "metadata": {
    "collapsed": true
   },
   "outputs": [],
   "source": [
    "#Pyramid charts are good for displaying large amounts of data with large values (such as population, election results, etc)\n",
    "miles_traveled = [(364383, 359443, 360172, 345780, 333968, 326914,\n",
    "   323053, 312576, 302015, 301277, 309874, 318295, 323396, 332736,\n",
    "   330759, 335267, 345096, 352685, 368067, 381521, 380145, 378724,\n",
    "   388045, 382303, 373469, 365184, 342869, 316928, 285137, 273553,\n",
    "   250861, 221358, 195884, 179321, 171010, 162594, 152221, 148843,\n",
    "   143013, 135887, 125824, 121493, 115913, 113738, 105612, 99596, 91609,\n",
    "   83917, 75688, 69538, 62999, 58864, 54593, 48818, 44739, 41096, 39169,\n",
    "   36321, 34284, 32330, 31437, 30661, 31332, 30334, 23600, 21999, 20187,\n",
    "   19075, 16574, 15091, 14977, 14171, 13687, 13155, 12558, 11600, 10827,\n",
    "   10436, 9851, 9794, 8787, 7993, 6901, 6422, 5506, 4839, 4144, 3433,\n",
    "   2936, 2615),\n",
    "\n",
    "    (349909, 340550, 342668, 346788, 319010, 312898, 308153, 296752,\n",
    "    289639, 290466, 296190, 303451, 309786, 317436, 315487, 316696,\n",
    "    325772, 331694, 345815, 354696, 354899, 351727, 354579, 341702,336421, \n",
    "    321116, 292261, 261874, 242407, 229488, 208939, 184147,\n",
    "    162662, 147361, 140424, 134336, 126929, 125404, 122764, 116004,\n",
    "    105590, 100813, 95021, 90950, 85036, 79391, 72952, 66022, 59126,\n",
    "    52716, 46582, 42772, 38509, 34048, 30887, 28053, 26152, 23931, 22039,\n",
    "    20677, 19869, 19026, 18757, 18308, 14458, 13685, 12942, 12323, 11033,\n",
    "    10183, 10628, 10803, 10655, 10482, 10202, 10166, 9939, 10138, 10007,\n",
    "    10174, 9997, 9465, 9028, 8806, 8450, 7941, 7253, 6698, 6267, 5773),\n",
    "                  \n",
    "    (0, 0, 0, 0, 0, 0, 0, 0, 0, 0, 0, 0, 0, 0, 0, 0, 26, 81, 312,\n",
    "    1319, 2987, 5816, 10053, 16045, 24240, 35066, 47828, 62384, 78916,\n",
    "    97822, 112799, 124414, 130658, 140789, 153951, 168560, 179996, 194471,\n",
    "    212006, 225209, 228886, 239690, 245974, 253459, 255455, 260715,\n",
    "    259980, 256481, 252222, 249467, 240268, 238465, 238167, 231361,\n",
    "    223832, 220459, 222512, 220099, 219301, 221322, 229783, 239336,\n",
    "    258360, 271151, 218063, 213461, 207617, 196227, 174615, 160855,\n",
    "    165410, 163070, 157379, 149698, 140570, 131785, 119936, 113751,\n",
    "    106989, 99294, 89097, 78413, 68174, 60592, 52189, 43375, 35469, 29648,\n",
    "    24678, 20365),\n",
    "                  \n",
    "    (0, 0, 0, 0, 0, 0, 0, 0, 0, 0, 0, 0, 0, 0, 0, 0, 72, 344, 1478,\n",
    "    3901, 7878, 12899, 19948, 29108, 42475, 58287, 74163, 90724, 108375,\n",
    "    125886, 141559, 148061, 152871, 159725, 171298, 183536, 196136,\n",
    "    210831, 228757, 238731, 239616, 250036, 251759, 259593, 261832,\n",
    "    264864, 264702, 264070, 258117, 253678, 245440, 241342, 239843,\n",
    "    232493, 226118, 221644, 223440, 219833, 219659, 221271, 227123,\n",
    "    232865, 250646, 261796, 210136, 201824, 193109, 181831, 159280,\n",
    "    145235, 145929, 140266, 133082, 124350, 114441, 104655, 93223, 85899,\n",
    "    78800, 72081, 62645, 53214, 44086, 38481, 32219, 26867, 21443, 16899,\n",
    "    13680, 11508),\n",
    "                  \n",
    "    (0, 0, 0, 0, 0, 0, 0, 0, 0, 0, 0, 0, 0, 0, 0, 0, 6, 7, 11, 13, 31,\n",
    "    34, 38, 35, 45, 299, 295, 218, 247, 252, 254, 222, 307, 316, 385, 416,\n",
    "    463, 557, 670, 830, 889, 1025, 1149, 1356, 1488, 1835, 1929, 2130,\n",
    "    2362, 2494, 2884, 3160, 3487, 3916, 4196, 4619, 5032, 5709, 6347,\n",
    "    7288, 8139, 9344, 11002, 12809, 11504, 11918, 12927, 13642, 13298,\n",
    "    14015, 15751, 17445, 18591, 19682, 20969, 21629, 22549, 23619, 25288,\n",
    "    26293, 27038, 27039, 27070, 27750, 27244, 25905, 24357, 22561, 21794,\n",
    "    20595),\n",
    "   \n",
    "    (0, 0, 0, 0, 0, 0, 0, 0, 0, 0, 0, 0, 0, 0, 0, 0, 7, 9, 9, 10, 20,\n",
    "    34, 49, 84, 97, 368, 401, 414, 557, 654, 631, 689, 698, 858, 1031,\n",
    "    1120, 1263, 1614, 1882, 2137, 2516, 2923, 3132, 3741, 4259, 4930,\n",
    "    5320, 5948, 6548, 7463, 8309, 9142, 10321, 11167, 12062, 13317, 15238,\n",
    "    16706, 18236, 20336, 23407, 27024, 32502, 37334, 34454, 38080, 41811,\n",
    "    44490, 45247, 46830, 53616, 58798, 63224, 66841, 71086, 73654, 77334,\n",
    "    82062, 87314, 92207, 94603, 94113, 92753, 93174, 91812, 87757, 84255,\n",
    "    79723, 77536, 74173)]\n",
    "\n",
    "craft_type = ['Apollo Rockets', 'Russian Rockets', 'US Space Shuttles', 'Satellites']\n",
    "pyramid = pygal.Pyramid()\n",
    "pyramid.title = \"Earth Miles Travelled by Spacecraft\"\n",
    "for type, miles in zip(craft_type, miles_traveled):  # Merge both lists together\n",
    "    pyramid.add(type, miles)\n",
    "pyramid.render_to_file('../plots/pyramid.svg')"
   ]
  },
  {
   "cell_type": "code",
   "execution_count": null,
   "metadata": {
    "collapsed": true
   },
   "outputs": [],
   "source": []
  }
 ],
 "metadata": {
  "kernelspec": {
   "display_name": "Python 3",
   "language": "python",
   "name": "python3"
  },
  "language_info": {
   "codemirror_mode": {
    "name": "ipython",
    "version": 3
   },
   "file_extension": ".py",
   "mimetype": "text/x-python",
   "name": "python",
   "nbconvert_exporter": "python",
   "pygments_lexer": "ipython3",
   "version": "3.6.1"
  }
 },
 "nbformat": 4,
 "nbformat_minor": 2
}
