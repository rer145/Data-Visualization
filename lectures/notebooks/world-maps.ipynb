{
 "cells": [
  {
   "cell_type": "code",
   "execution_count": 1,
   "metadata": {
    "collapsed": true
   },
   "outputs": [],
   "source": [
    "import pygal\n",
    "from pygal.maps.world import World\n",
    "\n",
    "chart = World()\n",
    "chart.title = \"China and the US\"\n",
    "chart.add(\"China\", ['cn'])\n",
    "chart.add('United States', ['us'])\n",
    "chart.render_to_file('../plots/us-china-map.svg')"
   ]
  },
  {
   "cell_type": "code",
   "execution_count": 2,
   "metadata": {
    "collapsed": true
   },
   "outputs": [],
   "source": [
    "chart = World()\n",
    "chart.title = \"US Allies and China\"\n",
    "chart.add('China', ['cn'])\n",
    "chart.add('US Allies', ['al', 'be', 'bg', 'ca', 'hr', 'cz', 'dk', 'ee', 'ff', 'de', 'hu', 'is', 'it', \n",
    "                       'lv', 'lt', 'lu', 'nl', 'no', 'pl', 'pt', 'ro', 'si', 'sk', 'tr', 'us', 'uk'])\n",
    "chart.render_to_file('../plots/us-allies-china.svg')"
   ]
  },
  {
   "cell_type": "code",
   "execution_count": 3,
   "metadata": {
    "collapsed": true
   },
   "outputs": [],
   "source": [
    "# New chart of all countries I've visited\n",
    "# Great code reference: http://www.nationsonline.org/oneworld/country_code_list.htm\n",
    "# See also: http://www.pygal.org/en/stable/documentation/types/maps/pygal_maps_world.html\n",
    "\n",
    "chart = World()\n",
    "chart.title = \"Countries I Have Visited\"\n",
    "chart.add(\"Miscellaneous\", ['us', 'ca', 'mx'])\n",
    "chart.add(\"DWOBS 2011\", ['gb', 'ie'])\n",
    "chart.add(\"DWOBS 2013\", ['it', 'hr', 'ba'])\n",
    "chart.add(\"DWOBS 2015\", ['pt', 'es', 'ma'])\n",
    "chart.add(\"DWOBS 2017\", ['dk', 'se', 'pl', 'de', 'ch'])\n",
    "chart.render_to_file('../plots/countries-visited.svg')"
   ]
  },
  {
   "cell_type": "code",
   "execution_count": 4,
   "metadata": {},
   "outputs": [],
   "source": [
    "# Country charts\n",
    "# Need to:  \n",
    "#  a) pip install pygal_maps_world\n",
    "#  b) pip install pygal_maps_fr\n",
    "\n",
    "from pygal.maps.world import COUNTRIES\n",
    "\n",
    "chart = pygal.maps.fr.Departments()\n",
    "chart.title = 'French Departments'\n",
    "chart.add('Data Set 1', ['17'])\n",
    "chart.add('Data Set 2', ['27'])\n",
    "chart.add('Data Set 3', ['38'])\n",
    "chart.add('Data Set 4', ['42'])\n",
    "chart.add('Data Set 5', ['19'])\n",
    "chart.render_to_file('../plots/french-map.svg')"
   ]
  },
  {
   "cell_type": "code",
   "execution_count": null,
   "metadata": {
    "collapsed": true
   },
   "outputs": [],
   "source": []
  }
 ],
 "metadata": {
  "kernelspec": {
   "display_name": "Python 3",
   "language": "python",
   "name": "python3"
  },
  "language_info": {
   "codemirror_mode": {
    "name": "ipython",
    "version": 3
   },
   "file_extension": ".py",
   "mimetype": "text/x-python",
   "name": "python",
   "nbconvert_exporter": "python",
   "pygments_lexer": "ipython3",
   "version": "3.6.1"
  }
 },
 "nbformat": 4,
 "nbformat_minor": 2
}
