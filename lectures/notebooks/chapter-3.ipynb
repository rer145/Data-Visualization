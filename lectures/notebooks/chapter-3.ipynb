{
 "cells": [
  {
   "cell_type": "code",
   "execution_count": 1,
   "metadata": {
    "collapsed": true
   },
   "outputs": [],
   "source": [
    "import pygal"
   ]
  },
  {
   "cell_type": "code",
   "execution_count": 2,
   "metadata": {
    "collapsed": true
   },
   "outputs": [],
   "source": [
    "line = pygal.Line()\n",
    "line.title = \"Website hits in the past 2 years\"\n",
    "line.x_labels = map(str, range(2012, 2014))\n",
    "line.add('Page Views', [None, 0, 12, 32, 72, 148])\n",
    "line.render_to_file('../plots/linechart.svg')"
   ]
  },
  {
   "cell_type": "code",
   "execution_count": 3,
   "metadata": {
    "collapsed": true
   },
   "outputs": [],
   "source": [
    "line = pygal.StackedLine(fill=True)\n",
    "line.title = \"Web hits in the past 2 years\"\n",
    "line.x_labels = map(str, range(2012, 2014))\n",
    "line.add(\"Site A\", [None, 0, 12, 32, 72, 148])\n",
    "line.add(\"Site B\", [2, 16, 12, 87, 91, 342])\n",
    "line.add(\"Site C\", [42, 55, 84, 88, 90, 171])\n",
    "line.render_to_file(\"../plots/linechart-stacked.svg\")"
   ]
  },
  {
   "cell_type": "code",
   "execution_count": 4,
   "metadata": {
    "collapsed": true
   },
   "outputs": [],
   "source": [
    "bar = pygal.Bar()\n",
    "bar.title = \"Searhes for term: sleep\"\n",
    "bar.x_labels = map(str, range(2011, 2015))\n",
    "bar.add(\"Searches\", [81, 88, 88, 100])\n",
    "bar.render_to_file(\"../plots/bar.svg\")"
   ]
  },
  {
   "cell_type": "code",
   "execution_count": 5,
   "metadata": {
    "collapsed": true
   },
   "outputs": [],
   "source": [
    "bar = pygal.StackedBar()\n",
    "bar.title = \"Searches for term: sleep\"\n",
    "bar.x_labels = map(str, range(2011, 2015))\n",
    "bar.add(\"Men\", [81, 88, 88, 100])\n",
    "bar.add(\"Women\", [78, 84, 69, 92])\n",
    "bar.render_to_file(\"../plots/bar-stacked.svg\")"
   ]
  },
  {
   "cell_type": "code",
   "execution_count": 6,
   "metadata": {
    "collapsed": true
   },
   "outputs": [],
   "source": [
    "bar = pygal.HorizontalBar()\n",
    "bar.title = \"Searhes for term: sleep\"\n",
    "bar.x_labels = map(str, range(2011, 2015))\n",
    "bar.add(\"Searches\", [81, 88, 88, 100])\n",
    "bar.render_to_file(\"../plots/bar-horizontal.svg\")"
   ]
  },
  {
   "cell_type": "code",
   "execution_count": 7,
   "metadata": {
    "collapsed": true
   },
   "outputs": [],
   "source": [
    "xy = pygal.XY()\n",
    "xy.add(\"Value 1\", [(-50, -30), (100, 45)])\n",
    "xy.render_to_file(\"../plots/xy.svg\")"
   ]
  },
  {
   "cell_type": "code",
   "execution_count": 8,
   "metadata": {
    "collapsed": true
   },
   "outputs": [],
   "source": [
    "xy = pygal.XY()\n",
    "xy.add(\"Value 1\", [(-50, -30), (100, 45)])\n",
    "xy.add(\"Value 2\", [(-2, -14), (370, 444)])\n",
    "xy.render_to_file(\"../plots/xy2.svg\")"
   ]
  },
  {
   "cell_type": "code",
   "execution_count": 9,
   "metadata": {
    "collapsed": true
   },
   "outputs": [],
   "source": [
    "xy = pygal.XY()\n",
    "xy.add(\"Value 1\", [(-50, -30), (100, 45), (120, 56), (168, 102), (211, 192), (279, 211)])\n",
    "xy.add(\"Value 2\", [(-2, -14), (370, 444), (391, 464), (399, 512), (412, 569), (789, 896)])\n",
    "xy.add(\"Value 3\", [(2, 10), (142, 164), (184, 216), (203, 243), (208, 335), (243, 201)])\n",
    "xy.render_to_file(\"../plots/xy3.svg\")"
   ]
  },
  {
   "cell_type": "code",
   "execution_count": 10,
   "metadata": {
    "collapsed": true
   },
   "outputs": [],
   "source": [
    "xy = pygal.XY(stroke=False)\n",
    "xy.add(\"Value 1\", [(-50, -30), (100, 45), (120, 56), (168, 102), (211, 192), (279, 211)])\n",
    "xy.add(\"Value 2\", [(-2, -14), (370, 444), (391, 464), (399, 512), (412, 569), (789, 896)])\n",
    "xy.add(\"Value 3\", [(2, 10), (142, 164), (184, 216), (203, 243), (208, 335), (243, 201)])\n",
    "xy.render_to_file(\"../plots/xy-scatter.svg\")"
   ]
  },
  {
   "cell_type": "code",
   "execution_count": 11,
   "metadata": {
    "collapsed": true
   },
   "outputs": [],
   "source": [
    "from datetime import datetime, timedelta\n",
    "\n",
    "datey = pygal.DateTimeLine() #book uses DateY()\n",
    "datey.title = \"Flights and amount of passengers arriving from St. Louis\"\n",
    "datey.add(\"Arrival\", [\n",
    "    (datetime(2014, 1, 5), 42),\n",
    "    (datetime(2014, 1, 14), 123),\n",
    "    (datetime(2014, 2, 2), 97),\n",
    "    (datetime(2014, 3, 22), 164)\n",
    "])\n",
    "datey.render_to_file(\"../plots/datey.svg\")"
   ]
  },
  {
   "cell_type": "code",
   "execution_count": 12,
   "metadata": {
    "collapsed": true
   },
   "outputs": [],
   "source": [
    "datey = pygal.DateTimeLine(x_label_rotation=25) #book uses DateY()\n",
    "datey.title = \"Flights and amount of passengers arriving from St. Louis\"\n",
    "datey.add(\"Arrival\", [\n",
    "    (datetime(2014, 1, 5), 42),\n",
    "    (datetime(2014, 1, 14), 123),\n",
    "    (datetime(2014, 2, 2), 97),\n",
    "    (datetime(2014, 3, 22), 164)\n",
    "])\n",
    "datey.render_to_file(\"../plots/datey-rotate-label.svg\")"
   ]
  }
 ],
 "metadata": {
  "kernelspec": {
   "display_name": "Python 3",
   "language": "python",
   "name": "python3"
  },
  "language_info": {
   "codemirror_mode": {
    "name": "ipython",
    "version": 3
   },
   "file_extension": ".py",
   "mimetype": "text/x-python",
   "name": "python",
   "nbconvert_exporter": "python",
   "pygments_lexer": "ipython3",
   "version": "3.6.1"
  }
 },
 "nbformat": 4,
 "nbformat_minor": 2
}
