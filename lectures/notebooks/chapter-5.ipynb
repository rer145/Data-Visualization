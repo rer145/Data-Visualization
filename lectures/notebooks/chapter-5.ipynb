{
 "cells": [
  {
   "cell_type": "code",
   "execution_count": 1,
   "metadata": {
    "collapsed": true
   },
   "outputs": [],
   "source": [
    "import pygal\n",
    "\n",
    "chart = pygal.Line()\n",
    "chart.title = \"Parameter Line Chart\"\n",
    "chart.x_labels = map(str, [\"Data Object 1\", \"Data Object 2\", \"Data Object 3\", \"Data Object 4\", \"Data Object 5\", \"Data Object 6\"])\n",
    "chart.add('Data Set 1', [8,16,24,32,48,56])\n",
    "chart.add('Data Set 2', [2,4,6,8,10,12])\n",
    "chart.add('Data Set 3', [1,3,5,7,9,12])\n",
    "chart.render_to_file('../plots/line-param.svg')"
   ]
  },
  {
   "cell_type": "code",
   "execution_count": 2,
   "metadata": {
    "collapsed": true
   },
   "outputs": [],
   "source": [
    "# Fill and font options\n",
    "\n",
    "chart = pygal.Line(fill=True, label_font_size=20)\n",
    "chart.title = \"Parameter Line Chart\"\n",
    "chart.x_labels = map(str, [\"Data Object 1\", \"Data Object 2\", \"Data Object 3\", \"Data Object 4\", \"Data Object 5\", \"Data Object 6\"])\n",
    "chart.add('Data Set 1', [8,16,24,32,48,56])\n",
    "chart.add('Data Set 2', [2,4,6,8,10,12])\n",
    "chart.add('Data Set 3', [1,3,5,7,9,12])\n",
    "chart.render_to_file('../plots/line-param-fill.svg')"
   ]
  },
  {
   "cell_type": "code",
   "execution_count": 3,
   "metadata": {
    "collapsed": true
   },
   "outputs": [],
   "source": [
    "# Label rotation\n",
    "\n",
    "chart = pygal.Line(fill=False, stroke=False, label_font_size=20, x_label_rotation=50)\n",
    "chart.title = \"Parameter Line Chart\"\n",
    "chart.x_labels = map(str, [\"Data Object 1\", \"Data Object 2\", \"Data Object 3\", \"Data Object 4\", \"Data Object 5\", \"Data Object 6\"])\n",
    "chart.add('Data Set 1', [8,16,24,32,48,56])\n",
    "chart.add('Data Set 2', [2,4,6,8,10,12])\n",
    "chart.add('Data Set 3', [1,3,5,7,9,12])\n",
    "chart.render_to_file('../plots/line-param-rotation.svg')"
   ]
  },
  {
   "cell_type": "code",
   "execution_count": 4,
   "metadata": {
    "collapsed": true
   },
   "outputs": [],
   "source": [
    "# Smoother plot lines, aka interpolation\n",
    "\n",
    "chart = pygal.Line(interpolate='cubic', label_font_size=20, x_label_rotation=50)\n",
    "chart.title = \"Parameter Line Chart\"\n",
    "chart.x_labels = map(str, [\"Data Object 1\", \"Data Object 2\", \"Data Object 3\", \"Data Object 4\", \"Data Object 5\", \"Data Object 6\"])\n",
    "chart.add('Data Set 1', [8,16,24,32,48,56])\n",
    "chart.add('Data Set 2', [2,4,6,8,10,12])\n",
    "chart.add('Data Set 3', [1,3,5,7,9,12])\n",
    "chart.render_to_file('../plots/line-param-cubic.svg')"
   ]
  },
  {
   "cell_type": "code",
   "execution_count": 5,
   "metadata": {
    "collapsed": true
   },
   "outputs": [],
   "source": [
    "# Titles for plot and axes\n",
    "\n",
    "chart = pygal.Line(interpolate='cubic', label_font_size=20, x_label_rotation=50)\n",
    "chart.title = \"Parameter Line Chart\"\n",
    "chart.x_title = \"Data Sets (x-axis)\"\n",
    "chart.y_title = \"Values (y-axis)\"\n",
    "chart.x_labels = map(str, [\"Data Object 1\", \"Data Object 2\", \"Data Object 3\", \"Data Object 4\", \"Data Object 5\", \"Data Object 6\"])\n",
    "chart.add('Data Set 1', [8,16,24,32,48,56])\n",
    "chart.add('Data Set 2', [2,4,6,8,10,12])\n",
    "chart.add('Data Set 3', [1,3,5,7,9,12])\n",
    "chart.render_to_file('../plots/line-param-titles.svg')"
   ]
  },
  {
   "cell_type": "code",
   "execution_count": 6,
   "metadata": {
    "collapsed": true
   },
   "outputs": [],
   "source": [
    "# Titles for plot and axes\n",
    "# Changing font sizes\n",
    "\n",
    "chart = pygal.Line(interpolate='cubic', label_font_size=20, x_label_rotation=50,\n",
    "                  title_font_size=36, x_title_font_size=36, y_title_font_size=36)\n",
    "\n",
    "chart.title = \"Parameter Line Chart\"\n",
    "chart.x_title = \"Data Sets (x-axis)\"\n",
    "chart.y_title = \"Values (y-axis)\"\n",
    "\n",
    "chart.x_labels = map(str, [\"Data Object 1\", \"Data Object 2\", \"Data Object 3\", \"Data Object 4\", \"Data Object 5\", \"Data Object 6\"])\n",
    "chart.add('Data Set 1', [8,16,24,32,48,56])\n",
    "chart.add('Data Set 2', [2,4,6,8,10,12])\n",
    "chart.add('Data Set 3', [1,3,5,7,9,12])\n",
    "\n",
    "chart.render_to_file('../plots/line-param-titles-font.svg')\n",
    "\n",
    "# This doesn't appear to have worked..."
   ]
  },
  {
   "cell_type": "code",
   "execution_count": 7,
   "metadata": {},
   "outputs": [],
   "source": [
    "# What happens when no data is available\n",
    "\n",
    "chart = pygal.Line()\n",
    "chart.title = \"Parameter Line Chart\"\n",
    "chart.x_labels = map(str, [\"Data Object 1\", \"Data Object 2\", \"Data Object 3\", \"Data Object 4\", \"Data Object 5\", \"Data Object 6\"])\n",
    "chart.render_to_file('../plots/line-param-empty.svg')"
   ]
  },
  {
   "cell_type": "code",
   "execution_count": 8,
   "metadata": {
    "collapsed": true
   },
   "outputs": [],
   "source": [
    "# Themes for your plots\n",
    "\n",
    "from pygal.style import NeonStyle\n",
    "\n",
    "chart = pygal.Line(interpolate='cubic', fill=True, style=NeonStyle)\n",
    "chart.title = \"Parameter Line Chart\"\n",
    "chart.x_labels = map(str, [\"Data Object 1\", \"Data Object 2\", \"Data Object 3\", \"Data Object 4\", \"Data Object 5\", \"Data Object 6\"])\n",
    "chart.add('Data Set 1', [8,16,24,32,48,56])\n",
    "chart.add('Data Set 2', [2,4,6,8,10,12])\n",
    "chart.add('Data Set 3', [1,3,5,7,9,12])\n",
    "chart.render_to_file('../plots/line-param-theme1.svg')"
   ]
  },
  {
   "cell_type": "code",
   "execution_count": 9,
   "metadata": {
    "collapsed": true
   },
   "outputs": [],
   "source": [
    "from pygal.style import RedBlueStyle\n",
    "\n",
    "chart = pygal.Line(interpolate='cubic', fill=True, style=RedBlueStyle)\n",
    "chart.title = \"Parameter Line Chart\"\n",
    "chart.x_labels = map(str, [\"Data Object 1\", \"Data Object 2\", \"Data Object 3\", \"Data Object 4\", \"Data Object 5\", \"Data Object 6\"])\n",
    "chart.add('Data Set 1', [8,16,24,32,48,56])\n",
    "chart.add('Data Set 2', [2,4,6,8,10,12])\n",
    "chart.add('Data Set 3', [1,3,5,7,9,12])\n",
    "chart.render_to_file('../plots/line-param-theme2.svg')"
   ]
  },
  {
   "cell_type": "code",
   "execution_count": null,
   "metadata": {
    "collapsed": true
   },
   "outputs": [],
   "source": []
  }
 ],
 "metadata": {
  "kernelspec": {
   "display_name": "Python 3",
   "language": "python",
   "name": "python3"
  },
  "language_info": {
   "codemirror_mode": {
    "name": "ipython",
    "version": 3
   },
   "file_extension": ".py",
   "mimetype": "text/x-python",
   "name": "python",
   "nbconvert_exporter": "python",
   "pygments_lexer": "ipython3",
   "version": "3.6.1"
  }
 },
 "nbformat": 4,
 "nbformat_minor": 2
}
