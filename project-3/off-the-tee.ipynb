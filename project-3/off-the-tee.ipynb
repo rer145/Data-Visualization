{
 "cells": [
  {
   "cell_type": "code",
   "execution_count": 1,
   "metadata": {
    "collapsed": true
   },
   "outputs": [],
   "source": [
    "import pandas as pd"
   ]
  },
  {
   "cell_type": "code",
   "execution_count": 2,
   "metadata": {
    "collapsed": true
   },
   "outputs": [],
   "source": [
    "jtTee2016 = pd.read_csv('rround-2016.txt', sep=';', low_memory=False, encoding='latin-1',\n",
    "                       usecols=['Tournament Year', 'Tournament #', 'Event Name', 'Player Name', 'Round Number', \n",
    "                                'Course Name', 'Course Par', 'Course Yardage', 'Tee Time',\n",
    "                                'Round Score', 'Longest Drive', 'Driving Acc. %(Fairways Hit)', \n",
    "                                'Driving Acc. %(Possible Fairways)', 'Left Rough Tendency(Total Left Rough)',\n",
    "                                'Right Rough Tendency(Total Right Rough)', 'Driving Dist. - All Drives(Tot. Dist.)', \n",
    "                               'Driving Dist. - All Drives(# of Drives)'])\n",
    "\n",
    "jtTee2017 = pd.read_csv('rround-2017.txt', sep=';', low_memory=False, encoding='latin-1',\n",
    "                       usecols=['Tournament Year', 'Tournament #', 'Event Name', 'Player Name', 'Round Number', \n",
    "                                'Course Name', 'Course Par', 'Course Yardage', 'Tee Time',\n",
    "                                'Round Score', 'Longest Drive', 'Driving Acc. %(Fairways Hit)', \n",
    "                                'Driving Acc. %(Possible Fairways)', 'Left Rough Tendency(Total Left Rough)',\n",
    "                                'Right Rough Tendency(Total Right Rough)', 'Driving Dist. - All Drives(Tot. Dist.)', \n",
    "                               'Driving Dist. - All Drives(# of Drives)'])\n",
    "\n",
    "fieldTee2017 = pd.read_csv('rround-2017.txt', sep=';', low_memory=False, encoding='latin-1',\n",
    "                       usecols=['Tournament Year', 'Tournament #', 'Event Name', 'Player Name', 'Round Number', \n",
    "                                'Course Name', 'Course Par', 'Course Yardage', 'Tee Time',\n",
    "                                'Round Score', 'Longest Drive', 'Driving Acc. %(Fairways Hit)', \n",
    "                                'Driving Acc. %(Possible Fairways)', 'Left Rough Tendency(Total Left Rough)',\n",
    "                                'Right Rough Tendency(Total Right Rough)', 'Driving Dist. - All Drives(Tot. Dist.)', \n",
    "                               'Driving Dist. - All Drives(# of Drives)'])\n",
    "\n",
    "jtTee2017 = jtTee2017.loc[(jtTee2017['Player Name'] == 'Thomas, Justin')]\n",
    "jtTee2016 = jtTee2016.loc[(jtTee2016['Player Name'] == 'Thomas, Justin')]\n",
    "fieldTee2017 = fieldTee2017.loc[(fieldTee2017['Player Name'] != 'Thomas, Justin')]"
   ]
  },
  {
   "cell_type": "code",
   "execution_count": 3,
   "metadata": {},
   "outputs": [
    {
     "data": {
      "text/html": [
       "<div>\n",
       "<style>\n",
       "    .dataframe thead tr:only-child th {\n",
       "        text-align: right;\n",
       "    }\n",
       "\n",
       "    .dataframe thead th {\n",
       "        text-align: left;\n",
       "    }\n",
       "\n",
       "    .dataframe tbody tr th {\n",
       "        vertical-align: top;\n",
       "    }\n",
       "</style>\n",
       "<table border=\"1\" class=\"dataframe\">\n",
       "  <thead>\n",
       "    <tr style=\"text-align: right;\">\n",
       "      <th></th>\n",
       "      <th>Tournament Year</th>\n",
       "      <th>Tournament #</th>\n",
       "      <th>Round Number</th>\n",
       "      <th>Course Par</th>\n",
       "      <th>Course Yardage</th>\n",
       "      <th>Round Score</th>\n",
       "      <th>Longest Drive</th>\n",
       "      <th>Driving Dist. - All Drives(Tot. Dist.)</th>\n",
       "      <th>Driving Dist. - All Drives(# of Drives)</th>\n",
       "      <th>Driving Acc. %(Fairways Hit)</th>\n",
       "      <th>Driving Acc. %(Possible Fairways)</th>\n",
       "      <th>Left Rough Tendency(Total Left Rough)</th>\n",
       "      <th>Right Rough Tendency(Total Right Rough)</th>\n",
       "    </tr>\n",
       "  </thead>\n",
       "  <tbody>\n",
       "    <tr>\n",
       "      <th>count</th>\n",
       "      <td>185.000000</td>\n",
       "      <td>185.000000</td>\n",
       "      <td>185.000000</td>\n",
       "      <td>185.000000</td>\n",
       "      <td>185.000000</td>\n",
       "      <td>185.000000</td>\n",
       "      <td>185.000000</td>\n",
       "      <td>185.000000</td>\n",
       "      <td>185.000000</td>\n",
       "      <td>185.000000</td>\n",
       "      <td>185.000000</td>\n",
       "      <td>185.000000</td>\n",
       "      <td>185.000000</td>\n",
       "    </tr>\n",
       "    <tr>\n",
       "      <th>mean</th>\n",
       "      <td>2016.464865</td>\n",
       "      <td>270.324324</td>\n",
       "      <td>2.345946</td>\n",
       "      <td>71.135135</td>\n",
       "      <td>7290.772973</td>\n",
       "      <td>69.675676</td>\n",
       "      <td>303.054054</td>\n",
       "      <td>3143.156757</td>\n",
       "      <td>10.605405</td>\n",
       "      <td>7.216216</td>\n",
       "      <td>13.254054</td>\n",
       "      <td>1.686486</td>\n",
       "      <td>1.708108</td>\n",
       "    </tr>\n",
       "    <tr>\n",
       "      <th>std</th>\n",
       "      <td>0.500117</td>\n",
       "      <td>155.482778</td>\n",
       "      <td>1.103008</td>\n",
       "      <td>0.895707</td>\n",
       "      <td>189.898549</td>\n",
       "      <td>4.828888</td>\n",
       "      <td>102.472569</td>\n",
       "      <td>1794.831766</td>\n",
       "      <td>6.035310</td>\n",
       "      <td>2.578497</td>\n",
       "      <td>3.188856</td>\n",
       "      <td>1.573932</td>\n",
       "      <td>1.612178</td>\n",
       "    </tr>\n",
       "    <tr>\n",
       "      <th>min</th>\n",
       "      <td>2016.000000</td>\n",
       "      <td>10.000000</td>\n",
       "      <td>1.000000</td>\n",
       "      <td>70.000000</td>\n",
       "      <td>6841.000000</td>\n",
       "      <td>36.000000</td>\n",
       "      <td>0.000000</td>\n",
       "      <td>0.000000</td>\n",
       "      <td>0.000000</td>\n",
       "      <td>0.000000</td>\n",
       "      <td>0.000000</td>\n",
       "      <td>0.000000</td>\n",
       "      <td>0.000000</td>\n",
       "    </tr>\n",
       "    <tr>\n",
       "      <th>25%</th>\n",
       "      <td>2016.000000</td>\n",
       "      <td>160.000000</td>\n",
       "      <td>1.000000</td>\n",
       "      <td>70.000000</td>\n",
       "      <td>7166.000000</td>\n",
       "      <td>67.000000</td>\n",
       "      <td>318.000000</td>\n",
       "      <td>3669.000000</td>\n",
       "      <td>13.000000</td>\n",
       "      <td>6.000000</td>\n",
       "      <td>14.000000</td>\n",
       "      <td>0.000000</td>\n",
       "      <td>0.000000</td>\n",
       "    </tr>\n",
       "    <tr>\n",
       "      <th>50%</th>\n",
       "      <td>2016.000000</td>\n",
       "      <td>280.000000</td>\n",
       "      <td>2.000000</td>\n",
       "      <td>71.000000</td>\n",
       "      <td>7322.000000</td>\n",
       "      <td>70.000000</td>\n",
       "      <td>331.000000</td>\n",
       "      <td>4069.000000</td>\n",
       "      <td>14.000000</td>\n",
       "      <td>7.000000</td>\n",
       "      <td>14.000000</td>\n",
       "      <td>2.000000</td>\n",
       "      <td>2.000000</td>\n",
       "    </tr>\n",
       "    <tr>\n",
       "      <th>75%</th>\n",
       "      <td>2017.000000</td>\n",
       "      <td>420.000000</td>\n",
       "      <td>3.000000</td>\n",
       "      <td>72.000000</td>\n",
       "      <td>7425.000000</td>\n",
       "      <td>72.000000</td>\n",
       "      <td>349.000000</td>\n",
       "      <td>4249.000000</td>\n",
       "      <td>14.000000</td>\n",
       "      <td>9.000000</td>\n",
       "      <td>14.000000</td>\n",
       "      <td>3.000000</td>\n",
       "      <td>3.000000</td>\n",
       "    </tr>\n",
       "    <tr>\n",
       "      <th>max</th>\n",
       "      <td>2017.000000</td>\n",
       "      <td>500.000000</td>\n",
       "      <td>4.000000</td>\n",
       "      <td>73.000000</td>\n",
       "      <td>7741.000000</td>\n",
       "      <td>82.000000</td>\n",
       "      <td>414.000000</td>\n",
       "      <td>4738.000000</td>\n",
       "      <td>15.000000</td>\n",
       "      <td>12.000000</td>\n",
       "      <td>15.000000</td>\n",
       "      <td>6.000000</td>\n",
       "      <td>6.000000</td>\n",
       "    </tr>\n",
       "  </tbody>\n",
       "</table>\n",
       "</div>"
      ],
      "text/plain": [
       "       Tournament Year  Tournament #  Round Number  Course Par  \\\n",
       "count       185.000000    185.000000    185.000000  185.000000   \n",
       "mean       2016.464865    270.324324      2.345946   71.135135   \n",
       "std           0.500117    155.482778      1.103008    0.895707   \n",
       "min        2016.000000     10.000000      1.000000   70.000000   \n",
       "25%        2016.000000    160.000000      1.000000   70.000000   \n",
       "50%        2016.000000    280.000000      2.000000   71.000000   \n",
       "75%        2017.000000    420.000000      3.000000   72.000000   \n",
       "max        2017.000000    500.000000      4.000000   73.000000   \n",
       "\n",
       "       Course Yardage  Round Score  Longest Drive  \\\n",
       "count      185.000000   185.000000     185.000000   \n",
       "mean      7290.772973    69.675676     303.054054   \n",
       "std        189.898549     4.828888     102.472569   \n",
       "min       6841.000000    36.000000       0.000000   \n",
       "25%       7166.000000    67.000000     318.000000   \n",
       "50%       7322.000000    70.000000     331.000000   \n",
       "75%       7425.000000    72.000000     349.000000   \n",
       "max       7741.000000    82.000000     414.000000   \n",
       "\n",
       "       Driving Dist. - All Drives(Tot. Dist.)  \\\n",
       "count                              185.000000   \n",
       "mean                              3143.156757   \n",
       "std                               1794.831766   \n",
       "min                                  0.000000   \n",
       "25%                               3669.000000   \n",
       "50%                               4069.000000   \n",
       "75%                               4249.000000   \n",
       "max                               4738.000000   \n",
       "\n",
       "       Driving Dist. - All Drives(# of Drives)  Driving Acc. %(Fairways Hit)  \\\n",
       "count                               185.000000                    185.000000   \n",
       "mean                                 10.605405                      7.216216   \n",
       "std                                   6.035310                      2.578497   \n",
       "min                                   0.000000                      0.000000   \n",
       "25%                                  13.000000                      6.000000   \n",
       "50%                                  14.000000                      7.000000   \n",
       "75%                                  14.000000                      9.000000   \n",
       "max                                  15.000000                     12.000000   \n",
       "\n",
       "       Driving Acc. %(Possible Fairways)  \\\n",
       "count                         185.000000   \n",
       "mean                           13.254054   \n",
       "std                             3.188856   \n",
       "min                             0.000000   \n",
       "25%                            14.000000   \n",
       "50%                            14.000000   \n",
       "75%                            14.000000   \n",
       "max                            15.000000   \n",
       "\n",
       "       Left Rough Tendency(Total Left Rough)  \\\n",
       "count                             185.000000   \n",
       "mean                                1.686486   \n",
       "std                                 1.573932   \n",
       "min                                 0.000000   \n",
       "25%                                 0.000000   \n",
       "50%                                 2.000000   \n",
       "75%                                 3.000000   \n",
       "max                                 6.000000   \n",
       "\n",
       "       Right Rough Tendency(Total Right Rough)  \n",
       "count                               185.000000  \n",
       "mean                                  1.708108  \n",
       "std                                   1.612178  \n",
       "min                                   0.000000  \n",
       "25%                                   0.000000  \n",
       "50%                                   2.000000  \n",
       "75%                                   3.000000  \n",
       "max                                   6.000000  "
      ]
     },
     "execution_count": 3,
     "metadata": {},
     "output_type": "execute_result"
    }
   ],
   "source": [
    "jtTee = pd.concat([jtTee2016, jtTee2017])\n",
    "jtTee.describe()"
   ]
  },
  {
   "cell_type": "code",
   "execution_count": 4,
   "metadata": {
    "collapsed": true
   },
   "outputs": [],
   "source": [
    "jtTee['Driving Accuracy'] = jtTee['Driving Acc. %(Fairways Hit)'] / jtTee['Driving Acc. %(Possible Fairways)']\n",
    "fieldTee2017['Driving Accuracy'] = fieldTee2017['Driving Acc. %(Fairways Hit)'] / fieldTee2017['Driving Acc. %(Possible Fairways)']"
   ]
  },
  {
   "cell_type": "code",
   "execution_count": 5,
   "metadata": {
    "collapsed": true
   },
   "outputs": [],
   "source": [
    "jtTee['Driving Average'] = jtTee['Driving Dist. - All Drives(Tot. Dist.)'] / jtTee['Driving Dist. - All Drives(# of Drives)']\n",
    "fieldTee2017['Driving Average'] = fieldTee2017['Driving Dist. - All Drives(Tot. Dist.)'] / fieldTee2017['Driving Dist. - All Drives(# of Drives)']"
   ]
  },
  {
   "cell_type": "code",
   "execution_count": 6,
   "metadata": {},
   "outputs": [
    {
     "name": "stdout",
     "output_type": "stream",
     "text": [
      "JT 2017 Accuracy: 0.5499976816432515\n",
      "JT 2016 Accuracy: 0.5390376984126983\n",
      "Field 2017 Accuracy: 0.6057593688362907\n"
     ]
    }
   ],
   "source": [
    "print('JT 2017 Accuracy:', jtTee.loc[(jtTee['Tournament Year'] == 2017)]['Driving Accuracy'].mean())\n",
    "print('JT 2016 Accuracy:', jtTee.loc[(jtTee['Tournament Year'] == 2016)]['Driving Accuracy'].mean())\n",
    "print('Field 2017 Accuracy:', fieldTee2017['Driving Accuracy'].mean())"
   ]
  },
  {
   "cell_type": "code",
   "execution_count": 7,
   "metadata": {
    "collapsed": true
   },
   "outputs": [],
   "source": [
    "%matplotlib inline\n",
    "import matplotlib.pyplot as plt"
   ]
  },
  {
   "cell_type": "code",
   "execution_count": 14,
   "metadata": {},
   "outputs": [
    {
     "data": {
      "image/png": "[encoded data removed]",
      "text/plain": [
       "<matplotlib.figure.Figure at 0x11e9bf860>"
      ]
     },
     "metadata": {},
     "output_type": "display_data"
    }
   ],
   "source": [
    "labels = ['2017', '2016', 'Rest of Field']\n",
    "values = [jtTee.loc[(jtTee['Tournament Year'] == 2017)]['Driving Accuracy'].mean(),\n",
    "         jtTee.loc[(jtTee['Tournament Year'] == 2016)]['Driving Accuracy'].mean(),\n",
    "         fieldTee2017['Driving Accuracy'].mean()]\n",
    "\n",
    "fig = plt.figure()\n",
    "plt.ylim([min(values)-0.1, max(values)+0.1])\n",
    "plt.bar(labels, values)\n",
    "plt.show()"
   ]
  },
  {
   "cell_type": "code",
   "execution_count": 9,
   "metadata": {},
   "outputs": [
    {
     "name": "stdout",
     "output_type": "stream",
     "text": [
      "JT 2017 Average: 299.49480417018896\n",
      "JT 2016 Average: 293.53146275946267\n",
      "Field 2017 Average: 284.97925020449856\n"
     ]
    }
   ],
   "source": [
    "print('JT 2017 Average:', jtTee.loc[(jtTee['Tournament Year'] == 2017)]['Driving Average'].mean())\n",
    "print('JT 2016 Average:', jtTee.loc[(jtTee['Tournament Year'] == 2016)]['Driving Average'].mean())\n",
    "print('Field 2017 Average:', fieldTee2017['Driving Average'].mean())"
   ]
  },
  {
   "cell_type": "code",
   "execution_count": 12,
   "metadata": {},
   "outputs": [
    {
     "data": {
      "image/png": "[encoded data removed]",
      "text/plain": [
       "<matplotlib.figure.Figure at 0x11e66d4e0>"
      ]
     },
     "metadata": {},
     "output_type": "display_data"
    }
   ],
   "source": [
    "labels = ['2017', '2016', 'Rest of Field']\n",
    "values = [jtTee.loc[(jtTee['Tournament Year'] == 2017)]['Driving Average'].mean(),\n",
    "         jtTee.loc[(jtTee['Tournament Year'] == 2016)]['Driving Average'].mean(),\n",
    "         fieldTee2017['Driving Average'].mean()]\n",
    "\n",
    "fig = plt.figure()\n",
    "plt.ylim([min(values)-10, max(values)+10])\n",
    "plt.bar(labels, values)\n",
    "plt.show()"
   ]
  },
  {
   "cell_type": "code",
   "execution_count": null,
   "metadata": {
    "collapsed": true
   },
   "outputs": [],
   "source": []
  }
 ],
 "metadata": {
  "kernelspec": {
   "display_name": "Python 3",
   "language": "python",
   "name": "python3"
  },
  "language_info": {
   "codemirror_mode": {
    "name": "ipython",
    "version": 3
   },
   "file_extension": ".py",
   "mimetype": "text/x-python",
   "name": "python",
   "nbconvert_exporter": "python",
   "pygments_lexer": "ipython3",
   "version": "3.6.1"
  }
 },
 "nbformat": 4,
 "nbformat_minor": 2
}
